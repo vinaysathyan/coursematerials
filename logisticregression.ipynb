{
 "cells": [
  {
   "cell_type": "code",
   "execution_count": 1,
   "metadata": {
    "collapsed": false
   },
   "outputs": [],
   "source": [
    "import numpy as np\n",
    "import statsmodels.api as sm\n",
    "import statsmodels.formula.api as smf\n",
    "import pandas as pd\n",
    "from sklearn.linear_model import LogisticRegression\n",
    "from sklearn.model_selection import train_test_split\n",
    "import os;\n",
    "path=\"C:/Users/michaeljgrogan/Documents/a_documents/computing/data science/datasets\"\n",
    "os.chdir(path)\n",
    "os.getcwd()\n",
    "\n",
    "variables = pd.read_csv('binomial_stock.csv')\n",
    "years = variables['years']\n",
    "dividend = variables['dividend']\n",
    "earnings_estimates = variables['earnings_estimates']\n",
    "\n",
    "y = dividend\n",
    "x = np.column_stack((years,earnings_estimates))\n",
    "x = sm.add_constant(x, prepend=True)"
   ]
  },
  {
   "cell_type": "code",
   "execution_count": 2,
   "metadata": {
    "collapsed": true
   },
   "outputs": [],
   "source": [
    "x_train, x_test, y_train, y_test = train_test_split(x, y, random_state=0)"
   ]
  },
  {
   "cell_type": "code",
   "execution_count": 3,
   "metadata": {
    "collapsed": false
   },
   "outputs": [
    {
     "data": {
      "text/plain": [
       "LogisticRegression(C=1.0, class_weight=None, dual=False, fit_intercept=True,\n",
       "          intercept_scaling=1, max_iter=100, multi_class='ovr', n_jobs=1,\n",
       "          penalty='l2', random_state=None, solver='liblinear', tol=0.0001,\n",
       "          verbose=0, warm_start=False)"
      ]
     },
     "execution_count": 3,
     "metadata": {},
     "output_type": "execute_result"
    }
   ],
   "source": [
    "logreg = LogisticRegression().fit(x_train,y_train)\n",
    "logreg"
   ]
  },
  {
   "cell_type": "code",
   "execution_count": 4,
   "metadata": {
    "collapsed": false
   },
   "outputs": [
    {
     "name": "stdout",
     "output_type": "stream",
     "text": [
      "Training set score: 0.885\n"
     ]
    }
   ],
   "source": [
    "print(\"Training set score: {:.3f}\".format(logreg.score(x_train,y_train)))"
   ]
  },
  {
   "cell_type": "code",
   "execution_count": 5,
   "metadata": {
    "collapsed": false
   },
   "outputs": [
    {
     "name": "stdout",
     "output_type": "stream",
     "text": [
      "Test set score: 0.944\n"
     ]
    }
   ],
   "source": [
    "print(\"Test set score: {:.3f}\".format(logreg.score(x_test,y_test)))"
   ]
  },
  {
   "cell_type": "code",
   "execution_count": 6,
   "metadata": {
    "collapsed": false
   },
   "outputs": [
    {
     "name": "stdout",
     "output_type": "stream",
     "text": [
      "Optimization terminated successfully.\n",
      "         Current function value: 0.162588\n",
      "         Iterations 10\n",
      "                           Logit Regression Results                           \n",
      "==============================================================================\n",
      "Dep. Variable:               dividend   No. Observations:                   70\n",
      "Model:                          Logit   Df Residuals:                       67\n",
      "Method:                           MLE   Df Model:                            2\n",
      "Date:                Sun, 04 Feb 2018   Pseudo R-squ.:                  0.7654\n",
      "Time:                        19:46:42   Log-Likelihood:                -11.381\n",
      "converged:                       True   LL-Null:                       -48.520\n",
      "                                        LLR p-value:                 7.425e-17\n",
      "==============================================================================\n",
      "                 coef    std err          z      P>|z|      [95.0% Conf. Int.]\n",
      "------------------------------------------------------------------------------\n",
      "const        -10.6858      3.441     -3.105      0.002       -17.431    -3.941\n",
      "x1             0.8919      0.297      2.999      0.003         0.309     1.475\n",
      "x2             0.3953      1.100      0.359      0.719        -1.761     2.552\n",
      "==============================================================================\n",
      "\n",
      "Possibly complete quasi-separation: A fraction 0.29 of observations can be\n",
      "perfectly predicted. This might indicate that there is complete\n",
      "quasi-separation. In this case some parameters will not be identified.\n"
     ]
    }
   ],
   "source": [
    "import statsmodels.api as sm\n",
    "logit_model=sm.Logit(y,x)\n",
    "result=logit_model.fit()\n",
    "print(result.summary())"
   ]
  },
  {
   "cell_type": "code",
   "execution_count": null,
   "metadata": {
    "collapsed": false
   },
   "outputs": [],
   "source": []
  },
  {
   "cell_type": "code",
   "execution_count": null,
   "metadata": {
    "collapsed": true
   },
   "outputs": [],
   "source": []
  }
 ],
 "metadata": {
  "kernelspec": {
   "display_name": "Python 3",
   "language": "python",
   "name": "python3"
  },
  "language_info": {
   "codemirror_mode": {
    "name": "ipython",
    "version": 3
   },
   "file_extension": ".py",
   "mimetype": "text/x-python",
   "name": "python",
   "nbconvert_exporter": "python",
   "pygments_lexer": "ipython3",
   "version": "3.6.0"
  }
 },
 "nbformat": 4,
 "nbformat_minor": 2
}
